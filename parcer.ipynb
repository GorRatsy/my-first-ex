{
 "cells": [
  {
   "cell_type": "code",
   "execution_count": 22,
   "metadata": {},
   "outputs": [
    {
     "name": "stdout",
     "output_type": "stream",
     "text": [
      "<class 'bs4.element.ResultSet'>\n"
     ]
    }
   ],
   "source": [
    "import requests\n",
    "from bs4 import BeautifulSoup\n",
    "\n",
    "URL = 'https://realpython.github.io/fake-jobs/'\n",
    "page = requests.get(URL)\n",
    "#print(page.text)\n",
    "soup = BeautifulSoup(page.content, \"html.parser\")\n",
    "results = soup.find(id = 'ResultsContainer')\n",
    "#print(results.prettify())\n",
    "job_elements = results.find_all('div', class_= 'card-content')\n",
    "for job_element in job_elements:\n",
    "    title_element = job_element.find('h2', class_ = 'title')\n",
    "    company_element = job_element.find('h3', class_ = 'company')\n",
    "    location_element = job_element.find('p', class_ = 'location')\n",
    "    \n",
    "    \n",
    "\n"
   ]
  },
  {
   "cell_type": "code",
   "execution_count": 28,
   "metadata": {},
   "outputs": [
    {
     "name": "stdout",
     "output_type": "stream",
     "text": [
      "Apply here: https://www.realpython.com\n",
      "\n",
      "Apply here: https://realpython.github.io/fake-jobs/jobs/senior-python-developer-0.html\n",
      "\n",
      "Apply here: https://www.realpython.com\n",
      "\n",
      "Apply here: https://realpython.github.io/fake-jobs/jobs/software-engineer-python-10.html\n",
      "\n",
      "Apply here: https://www.realpython.com\n",
      "\n",
      "Apply here: https://realpython.github.io/fake-jobs/jobs/python-programmer-entry-level-20.html\n",
      "\n",
      "Apply here: https://www.realpython.com\n",
      "\n",
      "Apply here: https://realpython.github.io/fake-jobs/jobs/python-programmer-entry-level-30.html\n",
      "\n",
      "Apply here: https://www.realpython.com\n",
      "\n",
      "Apply here: https://realpython.github.io/fake-jobs/jobs/software-developer-python-40.html\n",
      "\n",
      "Apply here: https://www.realpython.com\n",
      "\n",
      "Apply here: https://realpython.github.io/fake-jobs/jobs/python-developer-50.html\n",
      "\n",
      "Apply here: https://www.realpython.com\n",
      "\n",
      "Apply here: https://realpython.github.io/fake-jobs/jobs/back-end-web-developer-python-django-60.html\n",
      "\n",
      "Apply here: https://www.realpython.com\n",
      "\n",
      "Apply here: https://realpython.github.io/fake-jobs/jobs/back-end-web-developer-python-django-70.html\n",
      "\n",
      "Apply here: https://www.realpython.com\n",
      "\n",
      "Apply here: https://realpython.github.io/fake-jobs/jobs/python-programmer-entry-level-80.html\n",
      "\n",
      "Apply here: https://www.realpython.com\n",
      "\n",
      "Apply here: https://realpython.github.io/fake-jobs/jobs/software-developer-python-90.html\n",
      "\n"
     ]
    }
   ],
   "source": [
    "python_job = results.find_all(\n",
    "    'h2', string = lambda text: 'python' in text.lower()\n",
    "    )\n",
    "python_job_elements = [\n",
    "    h2_element.parent.parent.parent for h2_element in python_job\n",
    "]\n",
    "for python_job_element in python_job_elements:\n",
    "    links = python_job_element.find_all('a')\n",
    "    for link in links:\n",
    "        link_url = link['href']\n",
    "        print(f'Apply here: {link_url}\\n')"
   ]
  },
  {
   "cell_type": "code",
   "execution_count": null,
   "metadata": {},
   "outputs": [],
   "source": []
  }
 ],
 "metadata": {
  "interpreter": {
   "hash": "c7d3bb4552a08929623634aa4d520755dcd4892cc9798beccab1bf60579924ba"
  },
  "kernelspec": {
   "display_name": "Python 3.9.7 64-bit ('base': conda)",
   "language": "python",
   "name": "python3"
  },
  "language_info": {
   "codemirror_mode": {
    "name": "ipython",
    "version": 3
   },
   "file_extension": ".py",
   "mimetype": "text/x-python",
   "name": "python",
   "nbconvert_exporter": "python",
   "pygments_lexer": "ipython3",
   "version": "3.9.7"
  },
  "orig_nbformat": 4
 },
 "nbformat": 4,
 "nbformat_minor": 2
}
