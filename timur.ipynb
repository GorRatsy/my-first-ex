{
 "cells": [
  {
   "cell_type": "code",
   "execution_count": 64,
   "metadata": {},
   "outputs": [
    {
     "name": "stdout",
     "output_type": "stream",
     "text": [
      "['1.aa', '1.bat', '1.cad', '.aa.doc']\n"
     ]
    }
   ],
   "source": [
    "from collections import deque\n",
    "files = ['1.cad', '1.bat', '1.aa', '.aa.doc']\n",
    "new_list = list()\n",
    "for i in files:\n",
    "    new_list.append(i.split('.'))\n",
    "files = deque()\n",
    "l = sorted(new_list, key = lambda x: (x[-1],x[0]))\n",
    "need_to_sort = list()\n",
    "for i in l:\n",
    "    if i[0] == '' or i[-1] == '':\n",
    "        need_to_sort.append('.'.join(i))\n",
    "    else:        \n",
    "        elem = '.'.join(i)\n",
    "        files.append(elem)\n",
    "ll = sorted(need_to_sort, key = lambda x: (x[-1],x[0]), reverse=True)\n",
    "for i in ll:\n",
    "    if i.count('.')>1:\n",
    "        files.append(i)\n",
    "    else:\n",
    "        files.appendleft(i)\n",
    "print(list(files))"
   ]
  },
  {
   "cell_type": "code",
   "execution_count": 65,
   "metadata": {},
   "outputs": [
    {
     "name": "stdout",
     "output_type": "stream",
     "text": [
      "[['1', 'aa'], ['1', 'bat'], ['1', 'cad'], ['', 'aa', 'doc']]\n"
     ]
    }
   ],
   "source": [
    "f = sorted(new_list, key = lambda x: (x[-1],x[0]))\n",
    "print(f)"
   ]
  },
  {
   "cell_type": "code",
   "execution_count": null,
   "metadata": {},
   "outputs": [],
   "source": []
  }
 ],
 "metadata": {
  "interpreter": {
   "hash": "c7d3bb4552a08929623634aa4d520755dcd4892cc9798beccab1bf60579924ba"
  },
  "kernelspec": {
   "display_name": "Python 3.9.7 64-bit ('base': conda)",
   "language": "python",
   "name": "python3"
  },
  "language_info": {
   "codemirror_mode": {
    "name": "ipython",
    "version": 3
   },
   "file_extension": ".py",
   "mimetype": "text/x-python",
   "name": "python",
   "nbconvert_exporter": "python",
   "pygments_lexer": "ipython3",
   "version": "3.9.7"
  },
  "orig_nbformat": 4
 },
 "nbformat": 4,
 "nbformat_minor": 2
}
