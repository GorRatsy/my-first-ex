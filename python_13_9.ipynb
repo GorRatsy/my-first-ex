{
 "cells": [
  {
   "cell_type": "code",
   "execution_count": null,
   "metadata": {},
   "outputs": [],
   "source": [
    "import pandas as pd\n",
    "import numpy as np\n",
    "import plotly.offline as py\n",
    "py.init_notebook_mode(connected = True)\n",
    "import plotly.express as px\n",
    "import seaborn as sns\n",
    "import matplotlib.pyplot as plt\n",
    "from IPython.display import display\n",
    "\n",
    "churn_data = pd.read_csv('/home/gor/Загрузки/data_for_ds/churn.csv')"
   ]
  },
  {
   "cell_type": "code",
   "execution_count": null,
   "metadata": {},
   "outputs": [],
   "source": [
    "#9.1\n",
    "exited_data = churn_data['Exited'].value_counts()\n",
    "exited_fig = plt.figure(figsize=(5,5))\n",
    "axes = exited_fig.add_axes([0,0,1,1])\n",
    "axes.pie(\n",
    "    exited_data,\n",
    "    labels = ['Loyal', 'Exited'],\n",
    "    autopct = '%.1f%%',\n",
    "    shadow = True,\n",
    "    explode = [0.1, 0]\n",
    "    )\n",
    "# Из получившейся диаграммы видно, что число лояльных клиентов составляет 79.6%,\n",
    "# что почти в 4 раза больше, чем ушедших клиентов."
   ]
  },
  {
   "cell_type": "code",
   "execution_count": null,
   "metadata": {},
   "outputs": [],
   "source": [
    "#9.2\n",
    "more_than = churn_data[churn_data['Balance']>2500]\n",
    "more_than_fig = px.box(more_than, x = 'Balance')\n",
    "more_than_fig.show()\n",
    "# Как можно увидеть из графика, медианное значение составляет 119 тысяч долларов\n",
    "# Основная плотность капиталов клиентов, содержащихся в банке, находится в диапазоне от 41 до 198 тысячб\n",
    "# Лишь малая часть клиентов банка имеют меньше 41 и более 198 тысяч на счете (аномалии)\n"
   ]
  },
  {
   "cell_type": "code",
   "execution_count": null,
   "metadata": {},
   "outputs": [],
   "source": [
    "# 9.3\n",
    "bal_loy_fig = px.box(churn_data, y = 'Balance', x= 'Exited', color = 'Exited')\n",
    "bal_loy_fig.show()\n",
    "# Из диаграмы можно увидеть, что среднее значение вкладов ушедших клиентов было выше, чем у лояльных \n",
    "# Исходя из графика можно сделать вывод, что банк покинули более состоятельные клиенты"
   ]
  },
  {
   "cell_type": "code",
   "execution_count": null,
   "metadata": {},
   "outputs": [],
   "source": [
    "# 9.4\n",
    "\n",
    "ages_exited = churn_data[churn_data['Exited'] == 1]['Age'].value_counts()\n",
    "ages_exited_fig = px.bar(ages_exited, title = 'Exited per age', orientation= 'v')\n",
    "ages_exited_fig.show()\n",
    "# Из графика мы видим, что наибольший отток клиентов наблюдается в возрастном диапазоне от 37 до 52 лет\n",
    "# Также есть "
   ]
  },
  {
   "cell_type": "code",
   "execution_count": null,
   "metadata": {},
   "outputs": [],
   "source": [
    "# 9.5\n",
    "rating_fig = px.scatter(\n",
    "    data_frame= churn_data, \n",
    "    x = 'CreditScore',\n",
    "    y = 'EstimatedSalary',\n",
    "    color = 'Exited'\n",
    "    )\n",
    "# Не знаю насколько грамотно я построил график, но могу сделать один вывод - никакой взаимосвязи между\n",
    "# между рейтингом и предполагаемой зарплатой нет. Есть только выбросы покинувших банк - их кредитный \n",
    "# рейтинг меньше большинства\n"
   ]
  },
  {
   "cell_type": "code",
   "execution_count": null,
   "metadata": {},
   "outputs": [],
   "source": [
    "# 9.6\n",
    "mask = churn_data['Exited'] == 1\n",
    "sex_exited = churn_data[mask]['Gender'].value_counts()\n",
    "sex_exited_fig = plt.figure(figsize=(5,5))\n",
    "axes = sex_exited_fig.add_axes([0,0,1,1])\n",
    "axes.pie(\n",
    "    sex_exited,\n",
    "    labels = ['Female','Male'],\n",
    "    autopct = '%.1f%%',\n",
    "    shadow = True,\n",
    "    explode = [0.1, 0]\n",
    "    )\n",
    "# Из графика видно, что число покинувших компанию женщин превосходит число мужчин"
   ]
  },
  {
   "cell_type": "code",
   "execution_count": null,
   "metadata": {},
   "outputs": [],
   "source": [
    "# 9.7\n",
    "\n",
    "\n",
    "barplot = sns.barplot(\n",
    "    data=churn_data,\n",
    "    x='NumOfProducts',\n",
    "    y = 'Exited',\n",
    "    hue = 'NumOfProducts',\n",
    "    estimator = sum\n",
    "    )\n",
    "barplot.set_title('Exited per Products')\n",
    "# Из графика следует, что наибольшее количество отказов поступило от клиентов, воспользовавшимися услугами банка\n",
    "# 1 раз, самыми лояльными клинетами остались те, кто воспользовался услугами 4 раза\n",
    "# также большой суммарный отток произошел в группе, которая поьзовалась предлагаемыми услугами 2-3 раза"
   ]
  },
  {
   "cell_type": "code",
   "execution_count": null,
   "metadata": {},
   "outputs": [],
   "source": [
    "# 9.8\n",
    "\n",
    "active_exited = churn_data[churn_data['Exited'] == 1]['IsActiveMember'].value_counts()\n",
    "active_fig = plt.pie(active_exited,\n",
    "                     explode= [0.1, 0],\n",
    "                     labels=['Passive', 'Active'],\n",
    "                     autopct='%.1f%%',\n",
    "                     shadow = True,\n",
    "                     pctdistance= 0.7,\n",
    "                     startangle= 70)\n",
    "# Из графика следует вывод, что 36 процентов покинувших банк являлись пассивными клиентами, что косвенно \n",
    "# свидетельствует о их незаинтересованности в данном банке. Для привлечения пассивной части к активному использованию\n",
    "# услугами банка предлагаю провести акцию - бонусы за получение статуса активного клиента, устроить розыгрыш реальных призов"
   ]
  },
  {
   "cell_type": "code",
   "execution_count": null,
   "metadata": {},
   "outputs": [],
   "source": [
    "# 9.9\n",
    "\n",
    "\n",
    "churn_data_exited = churn_data[churn_data['Exited'] == 1].groupby(by = 'Geography', as_index= False)['Exited'].sum()\n",
    "country_fig = px.choropleth(\n",
    "    data_frame= churn_data_exited,\n",
    "    locations= 'Geography',\n",
    "    locationmode= 'country names',\n",
    "    color = 'Exited',\n",
    "    range_color=[0, 3e3],\n",
    "    title='Exited per country',\n",
    "    width= 800,\n",
    "    height = 500,\n",
    "    color_continuous_scale='Reds'\n",
    ")\n",
    "#country_fig.show()\n",
    "# Скорее всего, банк, подвергающийся анализу, находится в одной из этих стран.\n",
    "# Уход связан с территориальным признаком."
   ]
  },
  {
   "cell_type": "code",
   "execution_count": 109,
   "metadata": {},
   "outputs": [
    {
     "data": {
      "image/png": "[encoded data removed]",
      "text/plain": [
       "<Figure size 432x288 with 2 Axes>"
      ]
     },
     "metadata": {
      "needs_background": "light"
     },
     "output_type": "display_data"
    }
   ],
   "source": [
    "def get_credit_score_cat(credit_score):\n",
    "    if credit_score >= 300 and credit_score < 500:\n",
    "        return \"Very_Poor\"\n",
    "    elif credit_score >= 500 and credit_score < 601:\n",
    "        return \"Poor\"\n",
    "    elif credit_score >= 601 and credit_score < 661:\n",
    "        return \"Fair\"\n",
    "    elif credit_score >= 661 and credit_score < 781:\n",
    "        return \"Good\"\n",
    "    elif credit_score >= 781 and credit_score < 851:\n",
    "        return \"Excellent\"\n",
    "    elif credit_score >= 851:\n",
    "        return \"Top\"\n",
    "    elif credit_score < 300:\n",
    "        return \"Deep\"\n",
    "churn_data['CreditScoreCat'] = churn_data['CreditScore'].apply(get_credit_score_cat)\n",
    "churn_data['Part_ex'] = churn_data['Exited']/churn_data[churn_data['Exited']==1]['Exited'].count()\n",
    "pivot_credit_exited = pd.pivot_table(\n",
    "    churn_data,\n",
    "    aggfunc='sum',\n",
    "    values = 'Part_ex',\n",
    "    index = 'CreditScoreCat',\n",
    "    columns= 'Tenure'\n",
    "    )\n",
    "pivot_fig = sns.heatmap(\n",
    "    pivot_credit_exited,\n",
    "    )\n",
    "# Чаще всего уходят клиенты категории Good, которые пользовались услугами банка от 1 до 5 лет\n"
   ]
  }
 ],
 "metadata": {
  "interpreter": {
   "hash": "c7d3bb4552a08929623634aa4d520755dcd4892cc9798beccab1bf60579924ba"
  },
  "kernelspec": {
   "display_name": "Python 3.9.7 64-bit ('base': conda)",
   "language": "python",
   "name": "python3"
  },
  "language_info": {
   "codemirror_mode": {
    "name": "ipython",
    "version": 3
   },
   "file_extension": ".py",
   "mimetype": "text/x-python",
   "name": "python",
   "nbconvert_exporter": "python",
   "pygments_lexer": "ipython3",
   "version": "3.9.7"
  },
  "orig_nbformat": 4
 },
 "nbformat": 4,
 "nbformat_minor": 2
}
