{
 "cells": [
  {
   "cell_type": "code",
   "execution_count": 29,
   "metadata": {},
   "outputs": [
    {
     "data": {
      "text/plain": [
       "'class'"
      ]
     },
     "metadata": {},
     "output_type": "display_data"
    }
   ],
   "source": [
    "import pandas as pd\n",
    "import xml.etree.ElementTree as ET\n",
    "from IPython.display import display\n",
    "\n",
    "tree = ET.parse(r\"C:\\Users\\Gor\\Documents\\Материалы для учебы\\menu.xml\")\n",
    "root = tree.getroot()\n",
    "display(root[0][2].tag)"
   ]
  },
  {
   "cell_type": "code",
   "execution_count": null,
   "metadata": {},
   "outputs": [],
   "source": [
    "for dish in root:\n",
    "    for param in dish:\n",
    "        print(dish.attrib['name'], param.tag, param.text)\n",
    "    print()"
   ]
  },
  {
   "cell_type": "code",
   "execution_count": null,
   "metadata": {},
   "outputs": [],
   "source": [
    "columns_name = ['name', 'price', 'weight', 'class']\n",
    "df = pd.DataFrame(columns=columns_name)\n",
    "\n",
    "for dish in root:\n",
    "    row = [dish.attrib['name'], dish[0].text, dish[1].text, dish[2].text]\n",
    "    df = df.append(pd.Series(row, index=columns_name), ignore_index=True)"
   ]
  },
  {
   "cell_type": "code",
   "execution_count": 36,
   "metadata": {},
   "outputs": [
    {
     "data": {
      "text/plain": [
       "[<Element 'price' at 0x0000026F2D5D6BD0>,\n",
       " <Element 'weight' at 0x0000026F2D5D6C20>,\n",
       " <Element 'class' at 0x0000026F2D5D6C70>]"
      ]
     },
     "metadata": {},
     "output_type": "display_data"
    }
   ],
   "source": [
    "new_root = ET.Element('menu')\n",
    "dish1 = ET.SubElement(new_root, 'dish', name='Кура')\n",
    "dish2 = ET.SubElement(new_root, 'dish', name='Греча')\n",
    "\n",
    "price1 = ET.SubElement(dish1, 'price').text = '40'\n",
    "weight1 = ET.SubElement(dish1, 'weight').text='300'\n",
    "class1 = ET.SubElement(dish1, 'class').text='Мясо'\n",
    "\n",
    "price2 = ET.SubElement(dish2, 'price').text = '20'\n",
    "weight1 = ET.SubElement(dish2, 'weight').text='200'\n",
    "class1 = ET.SubElement(dish2, 'class').text='Крупа'"
   ]
  }
 ],
 "metadata": {
  "interpreter": {
   "hash": "b3ba2566441a7c06988d0923437866b63cedc61552a5af99d1f4fb67d367b25f"
  },
  "kernelspec": {
   "display_name": "Python 3.9.7 ('base')",
   "language": "python",
   "name": "python3"
  },
  "language_info": {
   "codemirror_mode": {
    "name": "ipython",
    "version": 3
   },
   "file_extension": ".py",
   "mimetype": "text/x-python",
   "name": "python",
   "nbconvert_exporter": "python",
   "pygments_lexer": "ipython3",
   "version": "3.9.7"
  },
  "orig_nbformat": 4
 },
 "nbformat": 4,
 "nbformat_minor": 2
}
