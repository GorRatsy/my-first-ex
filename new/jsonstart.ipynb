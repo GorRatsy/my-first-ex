{
 "cells": [
  {
   "cell_type": "code",
   "execution_count": null,
   "metadata": {},
   "outputs": [],
   "source": [
    "import json\n",
    "import pandas as pd\n",
    "from pprint import pprint\n",
    "\n",
    "cuisins = pd.read_json('https://lms.skillfactory.ru/assets/courseware/v1/92fd198fd3eccc09a8c3498e9dd25588/asset-v1:SkillFactory+DSPR-2.0+14JULY2021+type@asset+block/recipes.json')\n",
    "\n",
    "ml = list(cuisins['ingredients'].apply(lambda x: x))\n",
    "all_ingredients = set()\n",
    "for i in ml:\n",
    "  for x in i:\n",
    "      all_ingredients.add(x)\n",
    "len(all_ingredients)\n",
    "\n",
    "def contains(ingredients):\n",
    "  if ing_name in ingredients:\n",
    "    return 1\n",
    "  else:\n",
    "    return 0\n",
    "    \n",
    "\n",
    "for ing_name in all_ingredients:\n",
    "  cuisins[ing_name] = cuisins['ingredients'].apply(contains)\n"
   ]
  },
  {
   "cell_type": "code",
   "execution_count": null,
   "metadata": {},
   "outputs": [],
   "source": []
  }
 ],
 "metadata": {
  "interpreter": {
   "hash": "2ab1a9e10b3f68133a0de59c9c73069323b61d7a0c9c10feba48ff7d052eaabb"
  },
  "kernelspec": {
   "display_name": "Python 3.9.7 64-bit",
   "language": "python",
   "name": "python3"
  },
  "language_info": {
   "codemirror_mode": {
    "name": "ipython",
    "version": 3
   },
   "file_extension": ".py",
   "mimetype": "text/x-python",
   "name": "python",
   "nbconvert_exporter": "python",
   "pygments_lexer": "ipython3",
   "version": "3.9.7"
  },
  "orig_nbformat": 4
 },
 "nbformat": 4,
 "nbformat_minor": 2
}
