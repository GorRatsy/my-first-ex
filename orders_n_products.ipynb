{
 "cells": [
  {
   "cell_type": "code",
   "execution_count": 35,
   "metadata": {},
   "outputs": [
    {
     "data": {
      "text/plain": [
       "ID Покупателя\n",
       "7    17096.0\n",
       "5    13043.0\n",
       "8     1344.0\n",
       "1        0.0\n",
       "Name: Profit, dtype: float64"
      ]
     },
     "execution_count": 35,
     "metadata": {},
     "output_type": "execute_result"
    }
   ],
   "source": [
    "import pandas as pd\n",
    "from IPython.display import display\n",
    "\n",
    "orders = pd.read_csv('/home/gor/Загрузки/orders_and_products/orders.csv', sep = ';')\n",
    "prod = pd.read_csv('/home/gor/Загрузки/orders_and_products/products.csv', sep = ';')\n",
    "\n",
    "orders_products = orders.merge(prod,\n",
    "                             how='left',\n",
    "                             left_on = 'ID товара',\n",
    "                             right_on = 'Product_ID',\n",
    "                             copy = False\n",
    "                              )\n",
    "#display(orders_products[orders_products['Отменен']== 'Да'])\n",
    "\n",
    "\n",
    "orders_products['Profit'] = orders_products['Price'] * orders_products['Количество'] \n",
    "\n",
    "orders_products[orders_products['Оплачен'] == 'Да'].groupby('ID Покупателя')['Profit'].sum().sort_values(ascending=False)\n",
    "\n"
   ]
  }
 ],
 "metadata": {
  "interpreter": {
   "hash": "c7d3bb4552a08929623634aa4d520755dcd4892cc9798beccab1bf60579924ba"
  },
  "kernelspec": {
   "display_name": "Python 3.9.7 64-bit ('base': conda)",
   "language": "python",
   "name": "python3"
  },
  "language_info": {
   "codemirror_mode": {
    "name": "ipython",
    "version": 3
   },
   "file_extension": ".py",
   "mimetype": "text/x-python",
   "name": "python",
   "nbconvert_exporter": "python",
   "pygments_lexer": "ipython3",
   "version": "3.9.7"
  },
  "orig_nbformat": 4
 },
 "nbformat": 4,
 "nbformat_minor": 2
}
