{
  "nbformat": 4,
  "nbformat_minor": 0,
  "metadata": {
    "colab": {
      "name": "devatios_methods.ipynb",
      "provenance": [],
      "collapsed_sections": [],
      "authorship_tag": "ABX9TyMy8EFO2MLtVYJ4dtYpdEtA",
      "include_colab_link": true
    },
    "kernelspec": {
      "name": "python3",
      "display_name": "Python 3"
    },
    "language_info": {
      "name": "python"
    }
  },
  "cells": [
    {
      "cell_type": "markdown",
      "metadata": {
        "id": "view-in-github",
        "colab_type": "text"
      },
      "source": [
        "<a href=\"https://colab.research.google.com/github/GorRatsy/my-first-ex/blob/main/devatios_methods.ipynb\" target=\"_parent\"><img src=\"https://colab.research.google.com/assets/colab-badge.svg\" alt=\"Open In Colab\"/></a>"
      ]
    },
    {
      "cell_type": "code",
      "execution_count": 1,
      "metadata": {
        "id": "8zLH6sfrtlr5"
      },
      "outputs": [],
      "source": [
        "import pandas as pd\n",
        "import numpy as np\n",
        "import matplotlib.pyplot as plt\n",
        "import seaborn as sns\n",
        "\n",
        "sber_data = pd.read_csv('https://lms.skillfactory.ru/assets/courseware/v1/fbb2e41c55afd1333f7f87e91e904e9f/asset-v1:SkillFactory+DSPR-2.0+14JULY2021+type@asset+block/sber_data.zip', compression='zip', sep = ',')\n"
      ]
    },
    {
      "cell_type": "code",
      "source": [
        "# graphic method\n",
        "fig, axes = plt.subplots(nrows=1, ncols=2, figsize=(15, 4))\n",
        "histplot = sns.histplot(data=sber_data, x='full_sq', ax=axes[0]);\n",
        "histplot.set_title('Full Square Distribution')\n",
        "boxplot = sns.boxplot(data=sber_data, x='full_sq', ax=axes[1]);\n",
        "boxplot.set_title('Full Square Boxplot');"
      ],
      "metadata": {
        "id": "dLJOMWJYufWk"
      },
      "execution_count": null,
      "outputs": []
    },
    {
      "cell_type": "code",
      "source": [
        "# iqr-method\n",
        "\n",
        "def outliers_iqr_mod(data, feature, left = 1.5, right = 1.5, log_scale = False):\n",
        "    \"\"\"\n",
        "    Давайте немного модифицируем нашу функцию outliers_iqr(). \n",
        "    Добавьте в нее параметры left и right, которые задают число IQR влево и вправо от границ ящика (пусть по умолчанию они равны 1.5).\n",
        "    Функция, как и раньше должна возвращать потенциальные выбросы и очищенный DataFrame.\n",
        "    \"\"\"\n",
        "    if log_scale:\n",
        "        x = np.log(data[feature])\n",
        "    else:\n",
        "        x = data[feature]\n",
        "    quartile_1, quartile_3 = x.quantile(0.25), x.quantile(0.75),\n",
        "    iqr = quartile_3 - quartile_1\n",
        "    lower_bound = quartile_1 - (iqr * left)\n",
        "    upper_bound = quartile_3 + (iqr * right)\n",
        "    outliers = data[(x<lower_bound) | (x > upper_bound)]\n",
        "    cleaned = data[(x>lower_bound) & (x < upper_bound)]\n",
        "    return outliers, cleaned\n",
        "\n",
        "\n",
        "outliers, cleaned = outliers_iqr_mod(sber_data, 'price_doc', left = 3, right = 3, log_scale = True)\n",
        "print(f'Число выбросов по методу z-отклонения: {outliers.shape[0]}')\n",
        "print(f'Результирующее число записей: {cleaned.shape[0]}')"
      ],
      "metadata": {
        "colab": {
          "base_uri": "https://localhost:8080/"
        },
        "id": "MZ-nOZO4U1A_",
        "outputId": "be4f3f80-b816-4ba9-dc95-c3cd3decf3d7"
      },
      "execution_count": 20,
      "outputs": [
        {
          "output_type": "stream",
          "name": "stdout",
          "text": [
            "Число выбросов по методу z-отклонения: 92\n",
            "Результирующее число записей: 30379\n"
          ]
        }
      ]
    },
    {
      "cell_type": "code",
      "source": [
        "# z-method to delete deviations in data\n",
        "\n",
        "def outliers_z_score(data, feature, log_scale=False, left = 3, right = 3):\n",
        "    if log_scale:\n",
        "        x = np.log(data[feature]+1)\n",
        "    else:\n",
        "        x = data[feature]\n",
        "    mu = x.mean()\n",
        "    sigma = x.std()\n",
        "    lower_bound = mu - left * sigma\n",
        "    upper_bound = mu + right * sigma\n",
        "    outliers = data[(x < lower_bound) | (x > upper_bound)]\n",
        "    cleaned = data[(x > lower_bound) & (x < upper_bound)]\n",
        "    return outliers, cleaned\n",
        "\n",
        "outliers, cleaned = outliers_z_score(sber_data, 'price_doc', log_scale=True)\n",
        "print(f'Число выбросов по методу z-отклонения: {outliers.shape[0]}')\n",
        "print(f'Результирующее число записей: {cleaned.shape[0]}')\n",
        "\n"
      ],
      "metadata": {
        "id": "ScmcgFYvKgF3"
      },
      "execution_count": null,
      "outputs": []
    },
    {
      "cell_type": "code",
      "source": [
        "\n",
        "fig, axes = plt.subplots(nrows = 1, ncols = 2, figsize = (15,4))\n",
        "usual_hist = sns.histplot(data = sber_data, x = 'price_doc', ax = axes[0])\n",
        "usual_hist.set_title('Usual hist')\n",
        "sber_data['log_price'] = np.log(sber_data['price_doc']+1)\n",
        "log_hist = sns.histplot(data = sber_data, x = 'log_price', ax = axes[1])\n",
        "log_hist.set_title('Log hist')\n"
      ],
      "metadata": {
        "id": "qHhOgrfcNWZj"
      },
      "execution_count": null,
      "outputs": []
    },
    {
      "cell_type": "code",
      "source": [
        ""
      ],
      "metadata": {
        "id": "GECwOVQpSnvs"
      },
      "execution_count": null,
      "outputs": []
    }
  ]
}