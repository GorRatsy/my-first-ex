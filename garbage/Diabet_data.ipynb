{
  "nbformat": 4,
  "nbformat_minor": 0,
  "metadata": {
    "colab": {
      "name": "Diabet_data.ipynb",
      "provenance": [],
      "collapsed_sections": [],
      "authorship_tag": "ABX9TyOV+qZcqmqu7wTf/BtwEVyk",
      "include_colab_link": true
    },
    "kernelspec": {
      "name": "python3",
      "display_name": "Python 3"
    },
    "language_info": {
      "name": "python"
    }
  },
  "cells": [
    {
      "cell_type": "markdown",
      "metadata": {
        "id": "view-in-github",
        "colab_type": "text"
      },
      "source": [
        "<a href=\"https://colab.research.google.com/github/GorRatsy/my-first-ex/blob/main/Diabet_data.ipynb\" target=\"_parent\"><img src=\"https://colab.research.google.com/assets/colab-badge.svg\" alt=\"Open In Colab\"/></a>"
      ]
    },
    {
      "cell_type": "code",
      "execution_count": null,
      "metadata": {
        "id": "xO-LYAaNbrHk"
      },
      "outputs": [],
      "source": [
        "import pandas as pd\n",
        "import numpy as np\n",
        "import matplotlib.pyplot as plt\n",
        "import seaborn as sns\n",
        "\n",
        "diabetes = pd.read_csv('https://lms.skillfactory.ru/assets/courseware/v1/6559ab1e1d17acac79bec5dc8052261b/asset-v1:SkillFactory+DSPR-2.0+14JULY2021+type@asset+block/diabetes_data.zip', compression='zip', sep = ',')"
      ]
    },
    {
      "cell_type": "code",
      "source": [
        "dia_copy = diabetes.copy()\n"
      ],
      "metadata": {
        "id": "qHCx41Twb_9j"
      },
      "execution_count": null,
      "outputs": []
    },
    {
      "cell_type": "code",
      "source": [
        "low_information_cols = []\n",
        "\n",
        "for col in dia_dedupl.columns:\n",
        "    top_freq = dia_dedupl[col].value_counts(normalize = True).max()\n",
        "    nunique_ratio = dia_dedupl[col].nunique()/dia_dedupl[col].count()\n",
        "\n",
        "    if top_freq >= 0.99:\n",
        "      low_information_cols.append(col)\n",
        "      print(f'{col} : {round(top_freq*100,2)}% same values')\n",
        "    if nunique_ratio >= 0.99:\n",
        "      low_information_cols.append(col)\n",
        "      print(f'{col} : {round(nunique_ratio*100,2)}% unique values')\n",
        "print(low_information_cols)"
      ],
      "metadata": {
        "id": "nUz8ynnyfjH5",
        "colab": {
          "base_uri": "https://localhost:8080/"
        },
        "outputId": "e5a5c4bf-9fed-47fe-c44c-7cd87ed3d062"
      },
      "execution_count": null,
      "outputs": [
        {
          "output_type": "stream",
          "name": "stdout",
          "text": [
            "Gender : 100.0% same values\n",
            "['Gender']\n"
          ]
        }
      ]
    },
    {
      "cell_type": "code",
      "source": [
        "def to_nan(col):\n",
        "  if col == 0:\n",
        "      return np.nan\n",
        "  else:\n",
        "      return col"
      ],
      "metadata": {
        "id": "AHswgjA4kxMJ"
      },
      "execution_count": null,
      "outputs": []
    },
    {
      "cell_type": "code",
      "source": [
        "def nan_function(x):\n",
        "    return np.nan if x == 0 else x\n",
        "diabetes[\"Glucose\"] = diabetes[\"Glucose\"].apply(nan_function)\n",
        "diabetes[\"BloodPressure\"] = diabetes[\"BloodPressure\"].apply(nan_function)\n",
        "diabetes[\"SkinThickness\"] = diabetes[\"SkinThickness\"].apply(nan_function)\n",
        "diabetes[\"Insulin\"] = diabetes[\"Insulin\"].apply(nan_function)\n",
        "diabetes[\"BMI\"] = diabetes[\"BMI\"].apply(nan_function)\n",
        "is_null = diabetes.isnull().mean().round(2).sort_values(ascending=False)\n",
        "reduced_diabetes = diabetes.drop(labels = ['Insulin', 'SkinThickness'], axis = 1)\n",
        "dubl_columns = list(reduced_diabetes.columns)\n",
        "dia_dedupl = reduced_diabetes.drop_duplicates(subset = dubl_columns)\n"
      ],
      "metadata": {
        "id": "FX16JOzlEvYJ"
      },
      "execution_count": null,
      "outputs": []
    },
    {
      "cell_type": "code",
      "source": [
        "m = diabetes.shape[1]\n",
        "diabetes = diabetes.dropna(thresh=m-2, axis=0)\n",
        "print(diabetes.shape[0])\n",
        "values = {\n",
        "    ''\n",
        "}"
      ],
      "metadata": {
        "colab": {
          "base_uri": "https://localhost:8080/"
        },
        "id": "MpvmGswogVDy",
        "outputId": "63a0d3d8-2f38-4567-832e-8e13b2845b95"
      },
      "execution_count": null,
      "outputs": [
        {
          "output_type": "stream",
          "name": "stdout",
          "text": [
            "742\n"
          ]
        }
      ]
    }
  ]
}