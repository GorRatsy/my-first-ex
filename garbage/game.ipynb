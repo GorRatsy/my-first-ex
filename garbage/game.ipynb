{
 "cells": [],
 "metadata": {
  "interpreter": {
   "hash": "6940059a9baaaf1cc4b5bb9eb97271b53ef033efc83acbec83dddb94f009e497"
  },
  "kernelspec": {
   "display_name": "Python 3.9.7 64-bit ('pyth': conda)",
   "language": "python",
   "name": "python3"
  },
  "language_info": {
   "codemirror_mode": {
    "name": "ipython",
    "version": 3
   },
   "file_extension": ".py",
   "mimetype": "text/x-python",
   "name": "python",
   "nbconvert_exporter": "python",
   "pygments_lexer": "ipython3",
   "version": "3.9.7"
  },
  "orig_nbformat": 4
 },
 "nbformat": 4,
 "nbformat_minor": 2
}
