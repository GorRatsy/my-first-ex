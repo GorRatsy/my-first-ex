{
  "nbformat": 4,
  "nbformat_minor": 0,
  "metadata": {
    "colab": {
      "name": "Untitled1.ipynb",
      "provenance": [],
      "collapsed_sections": [],
      "authorship_tag": "ABX9TyOG7SGRieMFGGkPiocq1Qbr",
      "include_colab_link": true
    },
    "kernelspec": {
      "name": "python3",
      "display_name": "Python 3"
    },
    "language_info": {
      "name": "python"
    }
  },
  "cells": [
    {
      "cell_type": "markdown",
      "metadata": {
        "id": "view-in-github",
        "colab_type": "text"
      },
      "source": [
        "<a href=\"https://colab.research.google.com/github/GorRatsy/my-first-ex/blob/main/LinkedIn_stratascratch_solution.ipynb\" target=\"_parent\"><img src=\"https://colab.research.google.com/assets/colab-badge.svg\" alt=\"Open In Colab\"/></a>"
      ]
    },
    {
      "cell_type": "code",
      "execution_count": null,
      "metadata": {
        "id": "n-t_APA5SmV4"
      },
      "outputs": [],
      "source": [
        "# Import your libraries\n",
        "import pandas as pd\n",
        "\n",
        "united_data = linkedin_projects.merge(\n",
        "   linkedin_emp_projects,\n",
        "   left_on = 'id',\n",
        "   right_on = 'project_id',\n",
        "   how = 'left',\n",
        ")\n",
        "united_data = united_data.merge(\n",
        "    linkedin_employees,\n",
        "    left_on = 'emp_id',\n",
        "    right_on = 'id',\n",
        "    how = 'left'\n",
        "    )\n",
        "united_data = united_data.drop(['id_x','project_id','id_y'], axis = 1)\n",
        "united_data['duration'] = (united_data['end_date'] - united_data['start_date']).dt.days\n",
        "united_data['paycheck'] = round(united_data['duration']/365*united_data['salary'], 2)\n",
        "really_need = united_data[['title', 'budget', 'paycheck']].dropna(how = 'any', axis = 0)\n",
        "grouped = really_need.groupby(by = 'title', as_index = False, sort = False)[['paycheck', 'budget']].agg({'paycheck':'sum', 'budget' : 'mean'})\n",
        "grouped['overbudget'] = grouped['paycheck'] > grouped['budget']\n",
        "overbudget = grouped[grouped['overbudget'] == True]"
      ]
    }
  ]
}