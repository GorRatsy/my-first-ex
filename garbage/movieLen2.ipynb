{
 "cells": [
  {
   "cell_type": "code",
   "execution_count": 72,
   "metadata": {},
   "outputs": [
    {
     "ename": "SyntaxError",
     "evalue": "positional argument follows keyword argument (2186396263.py, line 39)",
     "output_type": "error",
     "traceback": [
      "\u001b[0;36m  File \u001b[0;32m\"/tmp/ipykernel_9295/2186396263.py\"\u001b[0;36m, line \u001b[0;32m39\u001b[0m\n\u001b[0;31m    columns= ['genres'],ho wto get first biggest values from dataframe\u001b[0m\n\u001b[0m                           ^\u001b[0m\n\u001b[0;31mSyntaxError\u001b[0m\u001b[0;31m:\u001b[0m positional argument follows keyword argument\n"
     ]
    }
   ],
   "source": [
    "import pandas as pd\n",
    "from IPython.display import display\n",
    "import numpy as np\n",
    "import re \n",
    "\n",
    "new_movies = pd.read_csv('/home/gor/Загрузки/ratings_movies.csv')\n",
    "\n",
    "def get_year_release(arg):\n",
    "    #находим все слова по шаблону \"(DDDD)\"\n",
    "    candidates = re.findall(r'\\(\\d{4}\\)', arg) \n",
    "    # проверяем число вхождений\n",
    "    if len(candidates) > 0:\n",
    "        #если число вхождений больше 0,\n",
    "\t#очищаем строку от знаков \"(\" и \")\"\n",
    "        year = candidates[0].replace('(', '')\n",
    "        year = year.replace(')', '')\n",
    "        return int(year)\n",
    "    else:\n",
    "        #если год не указан, возвращаем None\n",
    "        return None\n",
    "\n",
    "new_movies['year_release'] = new_movies['title'].apply(get_year_release)\n",
    "#display(new_movies['year_release'].isna().sum())\n",
    "#mask = new_movies['year_release'] == 2010\n",
    "#new_movies[mask].groupby(by='genres').mean().sort_values(by='rating')\n",
    "\n",
    "#display(new_movies.groupby('userId')['genres'].nunique().sort_values(ascending=False))\n",
    "#display(new_movies.sort_values(by=[''])\n",
    "#display(new_movies.groupby('userId')['rating'].agg(   #count values of users that give less marks than other but the highest\n",
    "#    ['count','mean']).sort_values(['count','mean'], ascending=[True, False]))\n",
    "mask1= new_movies['year_release']==2018\n",
    "n_dta = new_movies[mask1].groupby('genres')['rating'].agg(['count', 'mean'])\n",
    "\n",
    "new_movies['date'] = pd.to_datetime(new_movies['date'])\n",
    "new_movies['year_rating'] = new_movies['date'].dt.year\n",
    "new_table = pd.pivot_table(new_movies,\n",
    "                           values = 'rating',\n",
    "                           index= 'year_rating',\n",
    "                           columns= ['genres'],ho wto get first biggest values from dataframe\n",
    "                           aggfunc=np.mean)\n",
    "#display(new_table.loc[2018].sort_values(ascending=False))\n",
    "#display(new_table[new_table['genres']=='Comedy'])\n",
    "\n"
   ]
  }
 ],
 "metadata": {
  "interpreter": {
   "hash": "c7d3bb4552a08929623634aa4d520755dcd4892cc9798beccab1bf60579924ba"
  },
  "kernelspec": {
   "display_name": "Python 3.9.7 64-bit ('base': conda)",
   "language": "python",
   "name": "python3"
  },
  "language_info": {
   "codemirror_mode": {
    "name": "ipython",
    "version": 3
   },
   "file_extension": ".py",
   "mimetype": "text/x-python",
   "name": "python",
   "nbconvert_exporter": "python",
   "pygments_lexer": "ipython3",
   "version": "3.9.7"
  },
  "orig_nbformat": 4
 },
 "nbformat": 4,
 "nbformat_minor": 2
}
