{
 "cells": [
  {
   "cell_type": "code",
   "execution_count": 105,
   "metadata": {},
   "outputs": [
    {
     "ename": "SyntaxError",
     "evalue": "invalid syntax (1155823921.py, line 50)",
     "output_type": "error",
     "traceback": [
      "\u001b[0;36m  File \u001b[0;32m\"/tmp/ipykernel_5712/1155823921.py\"\u001b[0;36m, line \u001b[0;32m50\u001b[0m\n\u001b[0;31m    new_houses_types = pd.Series(['unit', 'house', 'flat', 'flat', 'house'])\u001b[0m\n\u001b[0m    ^\u001b[0m\n\u001b[0;31mSyntaxError\u001b[0m\u001b[0;31m:\u001b[0m invalid syntax\n"
     ]
    }
   ],
   "source": []
  },
  {
   "cell_type": "code",
   "execution_count": 17,
   "metadata": {},
   "outputs": [
    {
     "name": "stdout",
     "output_type": "stream",
     "text": [
      "9\n"
     ]
    }
   ],
   "source": [
    "import pandas as pd\n",
    "import datetime as dt\n",
    "\n",
    "def time_of_day(line):\n",
    "    \n",
    "    if 0 <= line <= 6:\n",
    "        return 'night'\n",
    "    elif 6 <  line <= 12:\n",
    "        return 'morning'\n",
    "    elif 12 < line <= 18:\n",
    "        return 'day'\n",
    "    elif 18 < line <= 23:\n",
    "        return 'evening'\n",
    "    else:\n",
    "        return 'else'\n",
    "\n",
    "bikes = pd.read_csv('/home/gor/Загрузки/citibike-tripdata.csv')\n",
    "bikes_w = bikes.copy()\n",
    "nan_c = bikes_w.isnull().sum(axis = 0) # get values from the string of names\n",
    "#bikes_w['start station id'].mode()\n",
    "#display(bikes_w['usertype'].value_counts(normalize = True))\n",
    "#display(bikes_w[bikes_w['gender'] == 1]['gender'].value_counts())bikeid\n",
    "#print(bikes_w['start station id'].sum() == bikes_w['end station id'].sum())\n",
    "#display(bikes_w.describe(include='object'))\n",
    "bikes_w.drop(['start station id', 'end station id'], axis = 1, inplace= True)\n",
    "#bikes_w['age'] = (bikes_w['birth year'] - dt.datetime.now()).dt.years\n",
    "\n",
    "bikes_w['age'] = 2018 - bikes_w['birth year']\n",
    "more_sixthy = bikes_w[bikes_w['age'] > 60]['age']\n",
    "\n",
    "\n",
    "bikes_w['stoptime'] = pd.to_datetime(bikes_w['stoptime'])\n",
    "bikes_w['starttime'] = pd.to_datetime(bikes_w['starttime'])\n",
    "bikes_w['trip_time'] = (bikes_w['stoptime'] - bikes_w['starttime']).dt.seconds\n",
    "#print(round(bikes_w['trip_time'].mean(), 2))\n",
    "\n",
    "weekday = bikes_w['starttime'].dt.dayofweek\n",
    "bikes_w['weekend'] = weekday.apply(lambda x: 1 if x == 5 or x == 6 else 0)\n",
    "#display(bikes_w['weekend'].sum())\n",
    "bikes_w['time_of_day'] = bikes_w['starttime'].dt.hour.apply(time_of_day)\n",
    "a = bikes_w[bikes_w['time_of_day'] == 'day'].shape[0]\n",
    "b = bikes_w[bikes_w['time_of_day'] == 'night'].shape[0]\n",
    "print(round(a/b))"
   ]
  },
  {
   "cell_type": "code",
   "execution_count": 18,
   "metadata": {},
   "outputs": [],
   "source": [
    "#sp.info()\n",
    "#display(sp)\n",
    "#sp[sp['lunch']== 'standard']['math score'].mean()\n",
    "#display(sp.isnull().sum()) # empty values\n",
    "#display(sp.loc[155])\n",
    "\n",
    "\n",
    "\n",
    "#display(melb_data.tail(10))\n",
    "#melb_data.describe(include='all').loc[:, 'Type']\n",
    "# ['Type'].value_counts(normalize=True)\n",
    "#melb_data.info()\n",
    "#melb_data['Distance'].std()\n",
    "#melb_data['Bedroom'].mode()\n",
    "#melb_data[(melb_data['Type']=='h') & (melb_data['Price']<3000000)]['Regionname'].mode()"
   ]
  },
  {
   "cell_type": "code",
   "execution_count": 19,
   "metadata": {},
   "outputs": [
    {
     "name": "stdout",
     "output_type": "stream",
     "text": [
      "84.93\n"
     ]
    }
   ],
   "source": [
    "import pandas as pd\n",
    "countries_df = pd.DataFrame({\n",
    "    'country': ['Англия', 'Канада', 'США', 'Россия', 'Украина', 'Беларусь', 'Казахстан'],\n",
    "    'population': [56.29, 38.05, 322.28, 146.24, 45.5, 9.5, 17.04],\n",
    "    'square': [133396, 9984670, 9826630, 17125191, 603628, 207600, 2724902]\n",
    "})\n",
    "#display(countries_df)\n",
    "countries_df['density'] = countries_df['population'] / countries_df['square'] * 1e6\n",
    "print(round(countries_df['density'].mean(), 2))"
   ]
  },
  {
   "cell_type": "code",
   "execution_count": 20,
   "metadata": {},
   "outputs": [
    {
     "name": "stdout",
     "output_type": "stream",
     "text": [
      "68.92932862190813\n"
     ]
    }
   ],
   "source": [
    "ufo_data = pd.read_csv('https://raw.githubusercontent.com/justmarkham/pandas-videos/master/data/ufo.csv')\n",
    "ufo_data['Time'] = pd.to_datetime(ufo_data['Time'])\n",
    "#ufo_data['Time'].mode()\n",
    "ufo_data['Date'] = ufo_data['Time'].dt.date\n",
    "print(ufo_data[ufo_data['State'] == 'NV']['Date'].diff().dt.days.mean())"
   ]
  }
 ],
 "metadata": {
  "interpreter": {
   "hash": "c7d3bb4552a08929623634aa4d520755dcd4892cc9798beccab1bf60579924ba"
  },
  "kernelspec": {
   "display_name": "Python 3.9.7 64-bit ('base': conda)",
   "language": "python",
   "name": "python3"
  },
  "language_info": {
   "codemirror_mode": {
    "name": "ipython",
    "version": 3
   },
   "file_extension": ".py",
   "mimetype": "text/x-python",
   "name": "python",
   "nbconvert_exporter": "python",
   "pygments_lexer": "ipython3",
   "version": "3.9.7"
  },
  "orig_nbformat": 4
 },
 "nbformat": 4,
 "nbformat_minor": 2
}
