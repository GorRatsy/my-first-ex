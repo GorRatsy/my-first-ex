{
 "cells": [
  {
   "cell_type": "code",
   "execution_count": 98,
   "metadata": {},
   "outputs": [
    {
     "name": "stdout",
     "output_type": "stream",
     "text": [
      "Nick\n"
     ]
    }
   ],
   "source": [
    "import pandas as pd\n",
    "\n",
    "\n",
    "melb_data = pd.read_csv('/home/gor/Загрузки/melb_data_fe.csv')\n",
    "melb_data['Date'] = pd.to_datetime(melb_data['Date'])\n",
    "melb_data['Quarters'] = pd.DatetimeIndex(melb_data['Date']).quarter\n",
    "#melb_data['Quarters'].value_counts()\n",
    "cols_to_exclude = ['Date', 'Rooms', 'Bedroom', 'Bathroom', 'Car'] \n",
    "max_unique_count = 150 \n",
    "for col in melb_data.columns: \n",
    "    if melb_data[col].nunique() < max_unique_count and col not in cols_to_exclude: \n",
    "        melb_data[col] = melb_data[col].astype('category')\n",
    "#display (melb_data.sort_values(by='AreaRatio', ascending= False, ignore_index=False).loc[1558,'BuildingArea'])\n",
    "#frame1 = melb_data['Rooms'] > 2\n",
    "#frame2 = melb_data['Type'] == 'townhouse' \n",
    "#display((melb_data[frame1 & frame2].sort_values(by=['Rooms', 'MeanRoomsSquare'],ascending=[True, False],ignore_index=True)).loc[18, 'Price'])\n",
    "#display(melb_data.groupby('Rooms')['Price'].agg(['mean']).sort_values(by='mean', ascending=False))\n",
    "#melb_data.groupby('Regionname')['Lattitude'].std().sort_values()\n",
    "frame3 = melb_data['Date']> '2017-05-01'\n",
    "frame4 = melb_data['Date']<= '2017-09-01'\n",
    "#melb_data.groupby('SellerG')['Price'].agg(['sum']).sort_values(by= 'sum')\n",
    "#melb_data[frame3 & frame4].groupby('SellerG')['Price'].agg(['sum']).sort_values(by= 'sum')\n",
    "#pivot_f = melb_data.pivot_table(\n",
    " #   values='Price',\n",
    "  #  index=['SellerG'],\n",
    "   # columns='Type',\n",
    "    #aggfunc=['mean'],\n",
    "    #fill_value=0    \n",
    "#)\n",
    "#max_unit_price = pivot_f['mean']['unit'].max()\n",
    "#print(pivot_f[pivot_f['mean']['unit']==max_unit_price].index[0])"
   ]
  }
 ],
 "metadata": {
  "interpreter": {
   "hash": "c7d3bb4552a08929623634aa4d520755dcd4892cc9798beccab1bf60579924ba"
  },
  "kernelspec": {
   "display_name": "Python 3.9.7 64-bit ('base': conda)",
   "language": "python",
   "name": "python3"
  },
  "language_info": {
   "codemirror_mode": {
    "name": "ipython",
    "version": 3
   },
   "file_extension": ".py",
   "mimetype": "text/x-python",
   "name": "python",
   "nbconvert_exporter": "python",
   "pygments_lexer": "ipython3",
   "version": "3.9.7"
  },
  "orig_nbformat": 4
 },
 "nbformat": 4,
 "nbformat_minor": 2
}
