{
 "cells": [
  {
   "cell_type": "code",
   "execution_count": 2,
   "metadata": {},
   "outputs": [
    {
     "ename": "SyntaxError",
     "evalue": "invalid syntax (2671490173.py, line 50)",
     "output_type": "error",
     "traceback": [
      "\u001b[0;36m  File \u001b[0;32m\"/tmp/ipykernel_4974/2671490173.py\"\u001b[0;36m, line \u001b[0;32m50\u001b[0m\n\u001b[0;31m    new_houses_types = pd.Series(['unit', 'house', 'flat', 'flat', 'house'])\u001b[0m\n\u001b[0m    ^\u001b[0m\n\u001b[0;31mSyntaxError\u001b[0m\u001b[0;31m:\u001b[0m invalid syntax\n"
     ]
    }
   ],
   "source": [
    "import pandas as pd\n",
    "\n",
    "from IPython.display import display\n",
    "\n",
    "def get_weekend(weekday):\n",
    "    if weekday == 5:\n",
    "        return 1\n",
    "    elif weekday == 6:\n",
    "        return 1\n",
    "    else:\n",
    "        return 0\n",
    "\n",
    " \n",
    "melb_data = pd.read_csv('/home/gor/Рабочий стол/DS/melb_data_ps.csv', sep = ',')\n",
    "melb_df = melb_data.copy()\n",
    "melb_df = melb_df.drop(['index', 'Coordinates'], axis = 1)\n",
    "total_rooms = melb_df['Rooms']+ melb_df['Bathroom'] + melb_df['Bedroom']\n",
    "melb_df['MeanRoomsSquare'] = melb_df['BuildingArea']/ total_rooms\n",
    "diff_area = melb_df['BuildingArea'] - melb_df['Landsize']\n",
    "sum_area = melb_df['BuildingArea'] + melb_df['Landsize']\n",
    "melb_df['AreaRatio'] = diff_area/sum_area\n",
    "melb_df['Date'] = pd.to_datetime(melb_df['Date'])\n",
    "melb_df['WeekdaySale'] = melb_df['Date'].dt.dayofweek\n",
    "weekend_count = melb_df[(melb_df['WeekdaySale'] == 5) | (melb_df['WeekdaySale'] == 6)].shape[0]\n",
    "melb_df['Dayof'] = melb_df['WeekdaySale'].apply(get_weekend)\n",
    "#melb_df[melb_df['Dayof'] == 1]['Price'].mean())\n",
    "#display(melb_df)   \n",
    "top_seller = melb_df['SellerG'].value_counts().nlargest(49).index\n",
    "\n",
    "melb_df['SellerG'] = melb_df['SellerG'].apply(lambda x: x if x in top_seller else 'other')\n",
    "min_nelson = melb_df[melb_df['SellerG'] == 'Nelson']['Price'].min()\n",
    "min_other = melb_df[melb_df['SellerG'] == 'other']['Price'].min()\n",
    "unique_list = []\n",
    " \n",
    "cols_to_exclude = ['Data', 'Rooms', 'Bedroom', 'Bathroom', 'Car']\n",
    "max_unique_count = 150 # max unique category values\n",
    " \n",
    "for col in melb_df.columns: # work with categories\n",
    "    if melb_df[col].nunique() < max_unique_count and col not in cols_to_exclude:\n",
    "        melb_df[col] = melb_df[col].astype('category') \n",
    "        \n",
    "melb_df['Type'] = melb_df['Type'].cat.rename_categories({ # rename categories\n",
    "    'u': 'units',\n",
    "    't' : 'townhouse',\n",
    "    'h' : 'house'\n",
    "})\n",
    "melb_df['Type'] = melb_df['Type'].cat.add_categories('flat')    \n",
    "columns= (['Column_Name', 'Num_unique', 'Type']\n",
    "\n",
    "new_houses_types = pd.Series(['unit', 'house', 'flat', 'flat', 'house'])\n",
    "new_houses_types = new_houses_types.astype(melb_df['Type'].dtype)\n"
   ]
  }
 ],
 "metadata": {
  "interpreter": {
   "hash": "c7d3bb4552a08929623634aa4d520755dcd4892cc9798beccab1bf60579924ba"
  },
  "kernelspec": {
   "display_name": "Python 3.9.7 64-bit ('base': conda)",
   "language": "python",
   "name": "python3"
  },
  "language_info": {
   "codemirror_mode": {
    "name": "ipython",
    "version": 3
   },
   "file_extension": ".py",
   "mimetype": "text/x-python",
   "name": "python",
   "nbconvert_exporter": "python",
   "pygments_lexer": "ipython3",
   "version": "3.9.7"
  },
  "orig_nbformat": 4
 },
 "nbformat": 4,
 "nbformat_minor": 2
}
